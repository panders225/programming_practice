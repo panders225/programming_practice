{
 "cells": [
  {
   "cell_type": "code",
   "execution_count": null,
   "metadata": {
    "collapsed": true
   },
   "outputs": [],
   "source": [
    "/************************************************************************\n",
    " * Last Run Date: 08 Feb 2017\t            \t\t\t\t\t\t\t*\n",
    " * Program Name: panders2_hw05_prog.sas\t\t\t\t\t\t\t\t\t*\n",
    " * Program Location: C:/Users/Philip/Schools/TAMU/STAT_657/\t\t\t\t*\n",
    " *\t\t\t\tSASUniversityEdition/myfolders/git_hw/homework/hw_05/sasprogs/\t* \n",
    " * Creation Date: 08 Feb 2017\t\t\t\t\t\t\t\t\t\t\t*\n",
    " * Author: Philip Anderson\t\t\t\t\t\t\t\t\t\t\t\t*\n",
    " * Purpose: Meeting objectives for Assignment 05\t\t\t\t\t\t*\n",
    " * Inputs: scholarship03.sas7bdat         *\n",
    " * Output: panders2_hw05_output.pdf\t\t\t\t\t\t\t\t\t\t\t\t\t\t\t*\n",
    " * Modification History:*\n",
    " * Execution Instructions: N/A - run as-is\t\t\t\t\t\t\t\t\t\t\t\t*\n",
    "*/**********************************************************************;\n"
   ]
  }
 ],
 "metadata": {
  "kernelspec": {
   "display_name": "SAS",
   "language": "sas",
   "name": "sas"
  },
  "language_info": {
   "codemirror_mode": "sas",
   "file_extension": ".sas",
   "mimetype": "text/x-sas",
   "name": "sas"
  }
 },
 "nbformat": 4,
 "nbformat_minor": 0
}
